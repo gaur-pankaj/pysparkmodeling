{
 "cells": [
  {
   "cell_type": "code",
   "execution_count": 1,
   "metadata": {},
   "outputs": [
    {
     "data": {
      "text/html": [
       "\n",
       "            <div>\n",
       "                <p><b>SparkSession - in-memory</b></p>\n",
       "                \n",
       "        <div>\n",
       "            <p><b>SparkContext</b></p>\n",
       "\n",
       "            <p><a href=\"http://DESKTOP-M3TUK91:4040\">Spark UI</a></p>\n",
       "\n",
       "            <dl>\n",
       "              <dt>Version</dt>\n",
       "                <dd><code>v2.4.6</code></dd>\n",
       "              <dt>Master</dt>\n",
       "                <dd><code>local[*]</code></dd>\n",
       "              <dt>AppName</dt>\n",
       "                <dd><code>Regression</code></dd>\n",
       "            </dl>\n",
       "        </div>\n",
       "        \n",
       "            </div>\n",
       "        "
      ],
      "text/plain": [
       "<pyspark.sql.session.SparkSession at 0x2b1300a4588>"
      ]
     },
     "execution_count": 1,
     "metadata": {},
     "output_type": "execute_result"
    }
   ],
   "source": [
    "#Importing libraries\n",
    "import findspark\n",
    "findspark.init()\n",
    "\n",
    "import pyspark\n",
    "from pyspark.sql import SparkSession\n",
    "\n",
    "spark = SparkSession.builder.appName(\"Regression\").getOrCreate()\n",
    "spark"
   ]
  },
  {
   "cell_type": "code",
   "execution_count": 2,
   "metadata": {},
   "outputs": [],
   "source": [
    "# importing the dependencies\n",
    "from pyspark.ml.feature import VectorAssembler\n",
    "from pyspark.sql.types import *\n",
    "from pyspark.sql.functions import *\n",
    "from pyspark.ml.feature import StringIndexer\n",
    "\n",
    "# importing library for checking multicollinearity\n",
    "from pyspark.ml.stat import Correlation\n",
    "\n",
    "# for training and evaluation\n",
    "from pyspark.ml.regression import *\n",
    "from pyspark.ml.evaluation import *\n",
    "from pyspark.ml.tuning import CrossValidator, ParamGridBuilder"
   ]
  },
  {
   "cell_type": "markdown",
   "metadata": {},
   "source": [
    "Import Dataset\n",
    "\n",
    "This is a dataset containing housing pricing data for California. Each row of data represents the median statistics for a block (eg. median income, median age of house, etc.). You could this data in a number of ways, but we will use it to predict the median house value.\n",
    "\n",
    "About this dataset\n",
    "\n",
    "1. longitude: A measure of how far west a house is; a higher value is farther west\n",
    "\n",
    "2. latitude: A measure of how far north a house is; a higher value is farther north\n",
    "\n",
    "3. housingMedianAge: Median age of a house within a block; a lower number is a newer building\n",
    "\n",
    "4. totalRooms: Total number of rooms within a block\n",
    "\n",
    "5. totalBedrooms: Total number of bedrooms within a block\n",
    "\n",
    "6. population: Total number of people residing within a block\n",
    "\n",
    "7. households: Total number of households, a group of people residing within a home unit, for a block\n",
    "\n",
    "8. medianIncome: Median income for households within a block of houses (measured in tens of thousands of US Dollars)\n",
    "\n",
    "9. medianHouseValue: Median house value for households within a block (measured in US Dollars)\n",
    "\n",
    "10. oceanProximity: Location of the house w.r.t ocean/sea\n",
    "Source: https://www.kaggle.com/camnugent/california-housing-prices"
   ]
  },
  {
   "cell_type": "code",
   "execution_count": 3,
   "metadata": {},
   "outputs": [
    {
     "data": {
      "text/html": [
       "<div>\n",
       "<style scoped>\n",
       "    .dataframe tbody tr th:only-of-type {\n",
       "        vertical-align: middle;\n",
       "    }\n",
       "\n",
       "    .dataframe tbody tr th {\n",
       "        vertical-align: top;\n",
       "    }\n",
       "\n",
       "    .dataframe thead th {\n",
       "        text-align: right;\n",
       "    }\n",
       "</style>\n",
       "<table border=\"1\" class=\"dataframe\">\n",
       "  <thead>\n",
       "    <tr style=\"text-align: right;\">\n",
       "      <th></th>\n",
       "      <th>longitude</th>\n",
       "      <th>latitude</th>\n",
       "      <th>housing_median_age</th>\n",
       "      <th>total_rooms</th>\n",
       "      <th>total_bedrooms</th>\n",
       "      <th>population</th>\n",
       "      <th>households</th>\n",
       "      <th>median_income</th>\n",
       "      <th>median_house_value</th>\n",
       "      <th>ocean_proximity</th>\n",
       "    </tr>\n",
       "  </thead>\n",
       "  <tbody>\n",
       "    <tr>\n",
       "      <th>0</th>\n",
       "      <td>-122.23</td>\n",
       "      <td>37.88</td>\n",
       "      <td>41.0</td>\n",
       "      <td>880.0</td>\n",
       "      <td>129.0</td>\n",
       "      <td>322.0</td>\n",
       "      <td>126.0</td>\n",
       "      <td>8.3252</td>\n",
       "      <td>452600.0</td>\n",
       "      <td>NEAR BAY</td>\n",
       "    </tr>\n",
       "    <tr>\n",
       "      <th>1</th>\n",
       "      <td>-122.22</td>\n",
       "      <td>37.86</td>\n",
       "      <td>21.0</td>\n",
       "      <td>7099.0</td>\n",
       "      <td>1106.0</td>\n",
       "      <td>2401.0</td>\n",
       "      <td>1138.0</td>\n",
       "      <td>8.3014</td>\n",
       "      <td>358500.0</td>\n",
       "      <td>NEAR BAY</td>\n",
       "    </tr>\n",
       "    <tr>\n",
       "      <th>2</th>\n",
       "      <td>-122.24</td>\n",
       "      <td>37.85</td>\n",
       "      <td>52.0</td>\n",
       "      <td>1467.0</td>\n",
       "      <td>190.0</td>\n",
       "      <td>496.0</td>\n",
       "      <td>177.0</td>\n",
       "      <td>7.2574</td>\n",
       "      <td>352100.0</td>\n",
       "      <td>NEAR BAY</td>\n",
       "    </tr>\n",
       "    <tr>\n",
       "      <th>3</th>\n",
       "      <td>-122.25</td>\n",
       "      <td>37.85</td>\n",
       "      <td>52.0</td>\n",
       "      <td>1274.0</td>\n",
       "      <td>235.0</td>\n",
       "      <td>558.0</td>\n",
       "      <td>219.0</td>\n",
       "      <td>5.6431</td>\n",
       "      <td>341300.0</td>\n",
       "      <td>NEAR BAY</td>\n",
       "    </tr>\n",
       "    <tr>\n",
       "      <th>4</th>\n",
       "      <td>-122.25</td>\n",
       "      <td>37.85</td>\n",
       "      <td>52.0</td>\n",
       "      <td>1627.0</td>\n",
       "      <td>280.0</td>\n",
       "      <td>565.0</td>\n",
       "      <td>259.0</td>\n",
       "      <td>3.8462</td>\n",
       "      <td>342200.0</td>\n",
       "      <td>NEAR BAY</td>\n",
       "    </tr>\n",
       "  </tbody>\n",
       "</table>\n",
       "</div>"
      ],
      "text/plain": [
       "   longitude  latitude  housing_median_age  total_rooms  total_bedrooms  \\\n",
       "0    -122.23     37.88                41.0        880.0           129.0   \n",
       "1    -122.22     37.86                21.0       7099.0          1106.0   \n",
       "2    -122.24     37.85                52.0       1467.0           190.0   \n",
       "3    -122.25     37.85                52.0       1274.0           235.0   \n",
       "4    -122.25     37.85                52.0       1627.0           280.0   \n",
       "\n",
       "   population  households  median_income  median_house_value ocean_proximity  \n",
       "0       322.0       126.0         8.3252            452600.0        NEAR BAY  \n",
       "1      2401.0      1138.0         8.3014            358500.0        NEAR BAY  \n",
       "2       496.0       177.0         7.2574            352100.0        NEAR BAY  \n",
       "3       558.0       219.0         5.6431            341300.0        NEAR BAY  \n",
       "4       565.0       259.0         3.8462            342200.0        NEAR BAY  "
      ]
     },
     "execution_count": 3,
     "metadata": {},
     "output_type": "execute_result"
    }
   ],
   "source": [
    "#Importing Dataset\n",
    "path = \"../Datasets/\"\n",
    "\n",
    "df = spark.read.csv(path+\"housing.csv\", inferSchema=True, header=True)\n",
    "df.limit(5).toPandas()"
   ]
  },
  {
   "cell_type": "code",
   "execution_count": 4,
   "metadata": {},
   "outputs": [
    {
     "name": "stdout",
     "output_type": "stream",
     "text": [
      "root\n",
      " |-- longitude: double (nullable = true)\n",
      " |-- latitude: double (nullable = true)\n",
      " |-- housing_median_age: double (nullable = true)\n",
      " |-- total_rooms: double (nullable = true)\n",
      " |-- total_bedrooms: double (nullable = true)\n",
      " |-- population: double (nullable = true)\n",
      " |-- households: double (nullable = true)\n",
      " |-- median_income: double (nullable = true)\n",
      " |-- median_house_value: double (nullable = true)\n",
      " |-- ocean_proximity: string (nullable = true)\n",
      "\n"
     ]
    }
   ],
   "source": [
    "# printing the schema\n",
    "df.printSchema()"
   ]
  },
  {
   "cell_type": "code",
   "execution_count": 5,
   "metadata": {},
   "outputs": [
    {
     "name": "stdout",
     "output_type": "stream",
     "text": [
      "Total number of observations in the datatset:  20640\n",
      "Total number of columns in the dataset:  10\n"
     ]
    }
   ],
   "source": [
    "# Checking dataset counts and columns\n",
    "print(\"Total number of observations in the datatset: \",df.count())\n",
    "print(\"Total number of columns in the dataset: \", len(df.columns))"
   ]
  },
  {
   "cell_type": "markdown",
   "metadata": {},
   "source": [
    "### Missing Data Statistics\n",
    "\n",
    "It is always valuable to know how much missing data you are going to be working with before you take any action such as filling missing values with an average or dropping those rows completely."
   ]
  },
  {
   "cell_type": "code",
   "execution_count": 6,
   "metadata": {},
   "outputs": [],
   "source": [
    "# creating a function to check null statistics\n",
    "\n",
    "from pyspark.sql.functions import *\n",
    "\n",
    "def null_value_calc(df):\n",
    "    null_columns_counts = []\n",
    "    # checking total number of rows in the dataset\n",
    "    numRows = df.count()\n",
    "    \n",
    "    #Iterating each columns for null values\n",
    "    for k in df.columns:\n",
    "        # checking null count for each column\n",
    "        print(\"column \",k)\n",
    "        nullRows = df.where(col(k).isNull()).count()\n",
    "        print(\"number of null rows: \", nullRows)\n",
    "        # if there are null\n",
    "        if(nullRows > 0 ):\n",
    "            # creating tuple having column name, null rows and null rows percent\n",
    "            temp = k, nullRows, (nullRows/numRows)*100\n",
    "            # appending the tuple\n",
    "            null_columns_counts.append(temp)\n",
    "            print(null_columns_counts)\n",
    "    return(null_columns_counts)\n",
    "        "
   ]
  },
  {
   "cell_type": "code",
   "execution_count": 7,
   "metadata": {},
   "outputs": [
    {
     "name": "stdout",
     "output_type": "stream",
     "text": [
      "column  longitude\n",
      "number of null rows:  0\n",
      "column  latitude\n",
      "number of null rows:  0\n",
      "column  housing_median_age\n",
      "number of null rows:  0\n",
      "column  total_rooms\n",
      "number of null rows:  0\n",
      "column  total_bedrooms\n",
      "number of null rows:  207\n",
      "[('total_bedrooms', 207, 1.002906976744186)]\n",
      "column  population\n",
      "number of null rows:  0\n",
      "column  households\n",
      "number of null rows:  0\n",
      "column  median_income\n",
      "number of null rows:  0\n",
      "column  median_house_value\n",
      "number of null rows:  0\n",
      "column  ocean_proximity\n",
      "number of null rows:  0\n"
     ]
    }
   ],
   "source": [
    "# passing the whole dataframe\n",
    "null_columns_calc_list = null_value_calc(df)"
   ]
  },
  {
   "cell_type": "code",
   "execution_count": 8,
   "metadata": {},
   "outputs": [
    {
     "name": "stdout",
     "output_type": "stream",
     "text": [
      "[('total_bedrooms', 207, 1.002906976744186)]\n"
     ]
    }
   ],
   "source": [
    "# checking null column statistics\n",
    "print(null_columns_calc_list)"
   ]
  },
  {
   "cell_type": "code",
   "execution_count": 9,
   "metadata": {},
   "outputs": [
    {
     "name": "stdout",
     "output_type": "stream",
     "text": [
      "+---------+--------+-----------+--------------+----------+---------------+\n",
      "|longitude|latitude|total_rooms|total_bedrooms|households|ocean_proximity|\n",
      "+---------+--------+-----------+--------------+----------+---------------+\n",
      "|  -122.16|   37.77|     1256.0|          null|     218.0|       NEAR BAY|\n",
      "|  -122.17|   37.75|      992.0|          null|     259.0|       NEAR BAY|\n",
      "|  -122.28|   37.78|     5154.0|          null|    1273.0|       NEAR BAY|\n",
      "|  -122.24|   37.75|      891.0|          null|     146.0|       NEAR BAY|\n",
      "|   -122.1|   37.69|      746.0|          null|     161.0|       NEAR BAY|\n",
      "+---------+--------+-----------+--------------+----------+---------------+\n",
      "only showing top 5 rows\n",
      "\n"
     ]
    }
   ],
   "source": [
    "# Checking null rows from the dataset\n",
    "df.filter(df.total_bedrooms.isNull()).select(['longitude','latitude','total_rooms','total_bedrooms','households','ocean_proximity']).show(5)"
   ]
  },
  {
   "cell_type": "code",
   "execution_count": 10,
   "metadata": {},
   "outputs": [
    {
     "name": "stdout",
     "output_type": "stream",
     "text": [
      "+--------------+-----------------+------------------+\n",
      "|   Column_Name|Null_Values_Count|Null_Value_Percent|\n",
      "+--------------+-----------------+------------------+\n",
      "|total_bedrooms|              207| 1.002906976744186|\n",
      "+--------------+-----------------+------------------+\n",
      "\n"
     ]
    }
   ],
   "source": [
    "# creating dataframe for null statistics to get good visualization\n",
    "spark.createDataFrame(null_columns_calc_list,['Column_Name','Null_Values_Count', 'Null_Value_Percent']).show()"
   ]
  },
  {
   "cell_type": "code",
   "execution_count": 11,
   "metadata": {},
   "outputs": [],
   "source": [
    "# filling the missing value with mean\n",
    "def fill_with_mean(df, include=set()): \n",
    "    stats = df.agg(*(avg(c).alias(c) for c in df.columns if c in include))\n",
    "    return df.na.fill(stats.first().asDict())"
   ]
  },
  {
   "cell_type": "code",
   "execution_count": 12,
   "metadata": {},
   "outputs": [
    {
     "name": "stdout",
     "output_type": "stream",
     "text": [
      "+---------+--------+-----------+--------------+----------+---------------+\n",
      "|longitude|latitude|total_rooms|total_bedrooms|households|ocean_proximity|\n",
      "+---------+--------+-----------+--------------+----------+---------------+\n",
      "+---------+--------+-----------+--------------+----------+---------------+\n",
      "\n"
     ]
    }
   ],
   "source": [
    "df = fill_with_mean(df, [\"total_bedrooms\"])\n",
    "df.filter(df.total_bedrooms.isNull()).select(['longitude','latitude','total_rooms','total_bedrooms','households','ocean_proximity']).show(5)"
   ]
  },
  {
   "cell_type": "markdown",
   "metadata": {},
   "source": [
    "### Formatting the Data\n",
    "\n",
    "Mlib requires all input columns of your dataframe to be vectorized. You will see that we rename our dependent var to label as that is what is expected for all MLib applications. If we renmame once here, we won't need to specify it later on!"
   ]
  },
  {
   "cell_type": "code",
   "execution_count": 13,
   "metadata": {},
   "outputs": [],
   "source": [
    "# segregating input and output columns\n",
    "input_columns = ['housing_median_age','total_rooms','total_bedrooms','population','households','median_income','ocean_proximity']\n",
    "dependent_var = ['median_house_value']"
   ]
  },
  {
   "cell_type": "code",
   "execution_count": 17,
   "metadata": {},
   "outputs": [],
   "source": [
    "# renaming the dependent var to label\n",
    "renamed = df.withColumnRenamed('median_house_value','label')"
   ]
  },
  {
   "cell_type": "code",
   "execution_count": 19,
   "metadata": {},
   "outputs": [],
   "source": [
    "# Converting all string data type in the input column list into numeric, else algorithm won't work\n",
    "\n",
    "# first create empty list set up to divide the input list into numeric and string data types\n",
    "numeric_inputs = []\n",
    "string_inputs = []\n",
    "\n",
    "for column in input_columns:\n",
    "    # checking the column type and if string, appending the new column name into string_inputs list\n",
    "    if str(renamed.schema[column].dataType) == 'StringType':\n",
    "        new_col_name = column + \"_num\"\n",
    "        string_inputs.append(new_col_name)\n",
    "    else:\n",
    "        numeric_inputs.append(column)\n",
    "        "
   ]
  },
  {
   "cell_type": "code",
   "execution_count": 21,
   "metadata": {},
   "outputs": [
    {
     "name": "stdout",
     "output_type": "stream",
     "text": [
      "numeric columns:  ['housing_median_age', 'total_rooms', 'total_bedrooms', 'population', 'households', 'median_income']\n",
      "New numeric columns:  ['ocean_proximity_num']\n"
     ]
    }
   ],
   "source": [
    "print(\"numeric columns: \",numeric_inputs)\n",
    "print(\"New numeric columns: \",string_inputs)"
   ]
  },
  {
   "cell_type": "code",
   "execution_count": 22,
   "metadata": {},
   "outputs": [],
   "source": [
    "# if the dataframe contains string column\n",
    "if len(string_inputs) !=0:\n",
    "    # use the string indexeer to convert them to numeric\n",
    "    for column in input_columns:\n",
    "        if str(renamed.schema[column].dataType) == \"StringType\":\n",
    "            indexer = StringIndexer(inputCol=column, outputCol=column+\"_num\")\n",
    "            indexed = indexer.fit(renamed).transform(renamed)\n",
    "        else:\n",
    "            indexed= renamed\n"
   ]
  },
  {
   "cell_type": "code",
   "execution_count": 23,
   "metadata": {},
   "outputs": [
    {
     "data": {
      "text/html": [
       "<div>\n",
       "<style scoped>\n",
       "    .dataframe tbody tr th:only-of-type {\n",
       "        vertical-align: middle;\n",
       "    }\n",
       "\n",
       "    .dataframe tbody tr th {\n",
       "        vertical-align: top;\n",
       "    }\n",
       "\n",
       "    .dataframe thead th {\n",
       "        text-align: right;\n",
       "    }\n",
       "</style>\n",
       "<table border=\"1\" class=\"dataframe\">\n",
       "  <thead>\n",
       "    <tr style=\"text-align: right;\">\n",
       "      <th></th>\n",
       "      <th>longitude</th>\n",
       "      <th>latitude</th>\n",
       "      <th>housing_median_age</th>\n",
       "      <th>total_rooms</th>\n",
       "      <th>total_bedrooms</th>\n",
       "      <th>population</th>\n",
       "      <th>households</th>\n",
       "      <th>median_income</th>\n",
       "      <th>label</th>\n",
       "      <th>ocean_proximity</th>\n",
       "      <th>ocean_proximity_num</th>\n",
       "    </tr>\n",
       "  </thead>\n",
       "  <tbody>\n",
       "    <tr>\n",
       "      <th>0</th>\n",
       "      <td>-122.23</td>\n",
       "      <td>37.88</td>\n",
       "      <td>41.0</td>\n",
       "      <td>880.0</td>\n",
       "      <td>129.0</td>\n",
       "      <td>322.0</td>\n",
       "      <td>126.0</td>\n",
       "      <td>8.3252</td>\n",
       "      <td>452600.0</td>\n",
       "      <td>NEAR BAY</td>\n",
       "      <td>3.0</td>\n",
       "    </tr>\n",
       "    <tr>\n",
       "      <th>1</th>\n",
       "      <td>-122.22</td>\n",
       "      <td>37.86</td>\n",
       "      <td>21.0</td>\n",
       "      <td>7099.0</td>\n",
       "      <td>1106.0</td>\n",
       "      <td>2401.0</td>\n",
       "      <td>1138.0</td>\n",
       "      <td>8.3014</td>\n",
       "      <td>358500.0</td>\n",
       "      <td>NEAR BAY</td>\n",
       "      <td>3.0</td>\n",
       "    </tr>\n",
       "    <tr>\n",
       "      <th>2</th>\n",
       "      <td>-122.24</td>\n",
       "      <td>37.85</td>\n",
       "      <td>52.0</td>\n",
       "      <td>1467.0</td>\n",
       "      <td>190.0</td>\n",
       "      <td>496.0</td>\n",
       "      <td>177.0</td>\n",
       "      <td>7.2574</td>\n",
       "      <td>352100.0</td>\n",
       "      <td>NEAR BAY</td>\n",
       "      <td>3.0</td>\n",
       "    </tr>\n",
       "    <tr>\n",
       "      <th>3</th>\n",
       "      <td>-122.25</td>\n",
       "      <td>37.85</td>\n",
       "      <td>52.0</td>\n",
       "      <td>1274.0</td>\n",
       "      <td>235.0</td>\n",
       "      <td>558.0</td>\n",
       "      <td>219.0</td>\n",
       "      <td>5.6431</td>\n",
       "      <td>341300.0</td>\n",
       "      <td>NEAR BAY</td>\n",
       "      <td>3.0</td>\n",
       "    </tr>\n",
       "    <tr>\n",
       "      <th>4</th>\n",
       "      <td>-122.25</td>\n",
       "      <td>37.85</td>\n",
       "      <td>52.0</td>\n",
       "      <td>1627.0</td>\n",
       "      <td>280.0</td>\n",
       "      <td>565.0</td>\n",
       "      <td>259.0</td>\n",
       "      <td>3.8462</td>\n",
       "      <td>342200.0</td>\n",
       "      <td>NEAR BAY</td>\n",
       "      <td>3.0</td>\n",
       "    </tr>\n",
       "  </tbody>\n",
       "</table>\n",
       "</div>"
      ],
      "text/plain": [
       "   longitude  latitude  housing_median_age  total_rooms  total_bedrooms  \\\n",
       "0    -122.23     37.88                41.0        880.0           129.0   \n",
       "1    -122.22     37.86                21.0       7099.0          1106.0   \n",
       "2    -122.24     37.85                52.0       1467.0           190.0   \n",
       "3    -122.25     37.85                52.0       1274.0           235.0   \n",
       "4    -122.25     37.85                52.0       1627.0           280.0   \n",
       "\n",
       "   population  households  median_income     label ocean_proximity  \\\n",
       "0       322.0       126.0         8.3252  452600.0        NEAR BAY   \n",
       "1      2401.0      1138.0         8.3014  358500.0        NEAR BAY   \n",
       "2       496.0       177.0         7.2574  352100.0        NEAR BAY   \n",
       "3       558.0       219.0         5.6431  341300.0        NEAR BAY   \n",
       "4       565.0       259.0         3.8462  342200.0        NEAR BAY   \n",
       "\n",
       "   ocean_proximity_num  \n",
       "0                  3.0  \n",
       "1                  3.0  \n",
       "2                  3.0  \n",
       "3                  3.0  \n",
       "4                  3.0  "
      ]
     },
     "execution_count": 23,
     "metadata": {},
     "output_type": "execute_result"
    }
   ],
   "source": [
    "# Checking if the dataframe is having new column Ocean_proximity_num\n",
    "indexed.limit(5).toPandas()"
   ]
  },
  {
   "cell_type": "code",
   "execution_count": 24,
   "metadata": {},
   "outputs": [
    {
     "name": "stdout",
     "output_type": "stream",
     "text": [
      "root\n",
      " |-- longitude: double (nullable = true)\n",
      " |-- latitude: double (nullable = true)\n",
      " |-- housing_median_age: double (nullable = true)\n",
      " |-- total_rooms: double (nullable = true)\n",
      " |-- total_bedrooms: double (nullable = false)\n",
      " |-- population: double (nullable = true)\n",
      " |-- households: double (nullable = true)\n",
      " |-- median_income: double (nullable = true)\n",
      " |-- label: double (nullable = true)\n",
      " |-- ocean_proximity: string (nullable = true)\n",
      " |-- ocean_proximity_num: double (nullable = false)\n",
      "\n"
     ]
    }
   ],
   "source": [
    "# checking new schema\n",
    "indexed.printSchema()"
   ]
  },
  {
   "cell_type": "markdown",
   "metadata": {},
   "source": [
    "### Treating Outliers"
   ]
  },
  {
   "cell_type": "code",
   "execution_count": 32,
   "metadata": {},
   "outputs": [
    {
     "name": "stdout",
     "output_type": "stream",
     "text": [
      "{'housing_median_age': [3.718281828459045, 3.831008000716577e+22]}\n",
      " \n",
      "{'housing_median_age': [3.718281828459045, 3.831008000716577e+22], 'total_rooms': [1.0986122886681098, 10.579514006287654]}\n",
      " \n",
      "{'housing_median_age': [3.718281828459045, 3.831008000716577e+22], 'total_rooms': [1.0986122886681098, 10.579514006287654], 'total_bedrooms': [0.6931471805599453, 8.771215062375383]}\n",
      " \n",
      "{'housing_median_age': [3.718281828459045, 3.831008000716577e+22], 'total_rooms': [1.0986122886681098, 10.579514006287654], 'total_bedrooms': [0.6931471805599453, 8.771215062375383], 'population': [1.3862943611198906, 10.482429663876848]}\n",
      " \n",
      "{'housing_median_age': [3.718281828459045, 3.831008000716577e+22], 'total_rooms': [1.0986122886681098, 10.579514006287654], 'total_bedrooms': [0.6931471805599453, 8.771215062375383], 'population': [1.3862943611198906, 10.482429663876848], 'households': [0.6931471805599453, 8.713253274320705]}\n",
      " \n",
      "{'housing_median_age': [3.718281828459045, 3.831008000716577e+22], 'total_rooms': [1.0986122886681098, 10.579514006287654], 'total_bedrooms': [0.6931471805599453, 8.771215062375383], 'population': [1.3862943611198906, 10.482429663876848], 'households': [0.6931471805599453, 8.713253274320705], 'median_income': [0.40539843921917673, 2.77259497222025]}\n",
      " \n",
      "housing_median_age has been treated for positive skewness:  3.6052174869813074\n",
      "total_rooms has been treated for negative skewness:  -1.075454519042874\n",
      "total_bedrooms has been treated for negative skewness:  -1.005613149398519\n",
      "population has been treated for negative skewness:  -1.0440108162265107\n",
      "households has been treated for negative skewness:  -1.0515310016250505\n",
      "median_income has been treated for negative skewness:  0.22606669987952513\n"
     ]
    }
   ],
   "source": [
    "# create empty dictionaries\n",
    "d ={}\n",
    "\n",
    "# create a dictionary of percentiles you want to set\n",
    "# we do top and bottom 1% which is pretty common\n",
    "\n",
    "for col in numeric_inputs:\n",
    "    d[col] = indexed.approxQuantile(col, [0.01, 0.99], 0.25)\n",
    "    print(d)\n",
    "    print(\" \")\n",
    "    \n",
    "# now fill the values\n",
    "for col in numeric_inputs:\n",
    "    skew = indexed.agg(skewness(indexed[col])).collect()\n",
    "    skew = skew[0][0]\n",
    "    \n",
    "    # this function will floor, cap, and then log+1\n",
    "    if skew>1:\n",
    "        indexed = indexed.withColumn(col, \\\n",
    "                                    log(when(indexed[col] < d[col][0], d[col][0]) \\\n",
    "                                       .when(indexed[col] > d[col][1], d[col][1]) \\\n",
    "                                       .otherwise(indexed[col]) + 1).alias(col))\n",
    "        print(col+\" has been treated for positive skewness: \", skew)\n",
    "    else:\n",
    "        # do exp in case skewness is negative\n",
    "        indexed = indexed.withColumn(col, \\\n",
    "                                    exp(when(indexed[col] < d[col][0], d[col][0]) \\\n",
    "                                       .when(indexed[col] > d[col][1], d[col][1]) \\\n",
    "                                       .otherwise(indexed[col])).alias(col))\n",
    "        print(col+\" has been treated for negative skewness: \", skew)"
   ]
  },
  {
   "cell_type": "code",
   "execution_count": 35,
   "metadata": {},
   "outputs": [
    {
     "name": "stdout",
     "output_type": "stream",
     "text": [
      "['housing_median_age', 'total_rooms', 'total_bedrooms', 'population', 'households', 'median_income', 'ocean_proximity_num']\n",
      "+--------------------+--------+\n",
      "|            features|   label|\n",
      "+--------------------+--------+\n",
      "|[41.0,881.0000000...|452600.0|\n",
      "|[21.0000000015165...|358500.0|\n",
      "|[52.0,1467.999999...|352100.0|\n",
      "|[52.0,1274.999999...|341300.0|\n",
      "|[52.0,1627.999999...|342200.0|\n",
      "+--------------------+--------+\n",
      "only showing top 5 rows\n",
      "\n"
     ]
    }
   ],
   "source": [
    "# total feature list\n",
    "features_list = numeric_inputs + string_inputs\n",
    "print(features_list)\n",
    "# converting all features into a single vector list\n",
    "assembler = VectorAssembler(inputCols=features_list, outputCol='features')\n",
    "final_data = assembler.transform(indexed).select('features', 'label')\n",
    "final_data.show(5)"
   ]
  },
  {
   "cell_type": "markdown",
   "metadata": {},
   "source": [
    "### Check for MultiCollinearity"
   ]
  },
  {
   "cell_type": "code",
   "execution_count": 39,
   "metadata": {},
   "outputs": [],
   "source": [
    "from pyspark.ml.stat import Correlation\n",
    "pearsonCorr = Correlation.corr(final_data, 'features', 'pearson').collect()[0][0]"
   ]
  },
  {
   "cell_type": "code",
   "execution_count": 46,
   "metadata": {},
   "outputs": [
    {
     "data": {
      "text/html": [
       "<div>\n",
       "<style scoped>\n",
       "    .dataframe tbody tr th:only-of-type {\n",
       "        vertical-align: middle;\n",
       "    }\n",
       "\n",
       "    .dataframe tbody tr th {\n",
       "        vertical-align: top;\n",
       "    }\n",
       "\n",
       "    .dataframe thead th {\n",
       "        text-align: right;\n",
       "    }\n",
       "</style>\n",
       "<table border=\"1\" class=\"dataframe\">\n",
       "  <thead>\n",
       "    <tr style=\"text-align: right;\">\n",
       "      <th></th>\n",
       "      <th>housing_median_age</th>\n",
       "      <th>total_rooms</th>\n",
       "      <th>total_bedrooms</th>\n",
       "      <th>population</th>\n",
       "      <th>households</th>\n",
       "      <th>median_income</th>\n",
       "      <th>ocean_proximity_num</th>\n",
       "    </tr>\n",
       "  </thead>\n",
       "  <tbody>\n",
       "    <tr>\n",
       "      <th>0</th>\n",
       "      <td>1.000000</td>\n",
       "      <td>-0.361183</td>\n",
       "      <td>-0.318952</td>\n",
       "      <td>-0.296220</td>\n",
       "      <td>-0.302889</td>\n",
       "      <td>-0.118984</td>\n",
       "      <td>0.145192</td>\n",
       "    </tr>\n",
       "    <tr>\n",
       "      <th>1</th>\n",
       "      <td>-0.361183</td>\n",
       "      <td>1.000000</td>\n",
       "      <td>0.927253</td>\n",
       "      <td>0.857126</td>\n",
       "      <td>0.918484</td>\n",
       "      <td>0.198050</td>\n",
       "      <td>-0.016309</td>\n",
       "    </tr>\n",
       "    <tr>\n",
       "      <th>2</th>\n",
       "      <td>-0.318952</td>\n",
       "      <td>0.927253</td>\n",
       "      <td>1.000000</td>\n",
       "      <td>0.873910</td>\n",
       "      <td>0.974725</td>\n",
       "      <td>-0.007682</td>\n",
       "      <td>-0.021358</td>\n",
       "    </tr>\n",
       "    <tr>\n",
       "      <th>3</th>\n",
       "      <td>-0.296220</td>\n",
       "      <td>0.857126</td>\n",
       "      <td>0.873910</td>\n",
       "      <td>1.000000</td>\n",
       "      <td>0.907222</td>\n",
       "      <td>0.004834</td>\n",
       "      <td>-0.083537</td>\n",
       "    </tr>\n",
       "    <tr>\n",
       "      <th>4</th>\n",
       "      <td>-0.302889</td>\n",
       "      <td>0.918484</td>\n",
       "      <td>0.974725</td>\n",
       "      <td>0.907222</td>\n",
       "      <td>1.000000</td>\n",
       "      <td>0.013033</td>\n",
       "      <td>-0.027144</td>\n",
       "    </tr>\n",
       "    <tr>\n",
       "      <th>5</th>\n",
       "      <td>-0.118984</td>\n",
       "      <td>0.198050</td>\n",
       "      <td>-0.007682</td>\n",
       "      <td>0.004834</td>\n",
       "      <td>0.013033</td>\n",
       "      <td>1.000000</td>\n",
       "      <td>-0.039673</td>\n",
       "    </tr>\n",
       "    <tr>\n",
       "      <th>6</th>\n",
       "      <td>0.145192</td>\n",
       "      <td>-0.016309</td>\n",
       "      <td>-0.021358</td>\n",
       "      <td>-0.083537</td>\n",
       "      <td>-0.027144</td>\n",
       "      <td>-0.039673</td>\n",
       "      <td>1.000000</td>\n",
       "    </tr>\n",
       "  </tbody>\n",
       "</table>\n",
       "</div>"
      ],
      "text/plain": [
       "   housing_median_age  total_rooms  total_bedrooms  population  households  \\\n",
       "0            1.000000    -0.361183       -0.318952   -0.296220   -0.302889   \n",
       "1           -0.361183     1.000000        0.927253    0.857126    0.918484   \n",
       "2           -0.318952     0.927253        1.000000    0.873910    0.974725   \n",
       "3           -0.296220     0.857126        0.873910    1.000000    0.907222   \n",
       "4           -0.302889     0.918484        0.974725    0.907222    1.000000   \n",
       "5           -0.118984     0.198050       -0.007682    0.004834    0.013033   \n",
       "6            0.145192    -0.016309       -0.021358   -0.083537   -0.027144   \n",
       "\n",
       "   median_income  ocean_proximity_num  \n",
       "0      -0.118984             0.145192  \n",
       "1       0.198050            -0.016309  \n",
       "2      -0.007682            -0.021358  \n",
       "3       0.004834            -0.083537  \n",
       "4       0.013033            -0.027144  \n",
       "5       1.000000            -0.039673  \n",
       "6      -0.039673             1.000000  "
      ]
     },
     "execution_count": 46,
     "metadata": {},
     "output_type": "execute_result"
    }
   ],
   "source": [
    "corrmatrix = pearsonCorr.toArray().tolist()\n",
    "#print(corrmatrix)\n",
    "corr_df = spark.createDataFrame(corrmatrix,features_list)\n",
    "corr_df.limit(7).toPandas()"
   ]
  },
  {
   "cell_type": "code",
   "execution_count": null,
   "metadata": {},
   "outputs": [],
   "source": [
    "# total rooms and total bedrooms are highly correlated ie 0.927\n",
    "# total rooms and population are also highly correlated ie 0.85\n",
    "# total rooms and households are highly correlated ie. 0.918\n",
    "# total_bedrooms and population are highly correlated ie. 0.87\n",
    "# total_bedrooms and households are highly correlated ie. 0.97\n"
   ]
  },
  {
   "cell_type": "markdown",
   "metadata": {},
   "source": [
    "#### Split the dataframe into training and testing dataset"
   ]
  },
  {
   "cell_type": "code",
   "execution_count": 49,
   "metadata": {},
   "outputs": [],
   "source": [
    "train, test = final_data.randomSplit([0.7, 0.3])"
   ]
  },
  {
   "cell_type": "code",
   "execution_count": 61,
   "metadata": {},
   "outputs": [
    {
     "name": "stdout",
     "output_type": "stream",
     "text": [
      "Training RMSE: 76101.920939\n",
      "Training r2: 0.570097\n",
      "\n"
     ]
    }
   ],
   "source": [
    "#Fitting the Linear Regression algorithm\n",
    "regressor = LinearRegression()\n",
    "fitModel = regressor.fit(train)\n",
    "\n",
    "# Load the Summary\n",
    "trainingSummary = fitModel.summary\n",
    "\n",
    "# Print the Errors\n",
    "print(\"Training RMSE: %f\" % trainingSummary.rootMeanSquaredError)\n",
    "print(\"Training r2: %f\" % trainingSummary.r2)\n",
    "print(\"\")"
   ]
  },
  {
   "cell_type": "code",
   "execution_count": 51,
   "metadata": {},
   "outputs": [],
   "source": [
    "# Setting the regression evaluator as rmse\n",
    "evaluator = RegressionEvaluator(metricName=\"rmse\")"
   ]
  },
  {
   "cell_type": "code",
   "execution_count": 52,
   "metadata": {},
   "outputs": [
    {
     "name": "stdout",
     "output_type": "stream",
     "text": [
      "Root Mean Squared Error (RMSE) on test data= 76020.5\n"
     ]
    }
   ],
   "source": [
    "predictions = fitModel.transform(test)\n",
    "\n",
    "# check the rmse value for prediction accuracy\n",
    "rmse = evaluator.evaluate(predictions)\n",
    "print(\"Root Mean Squared Error (RMSE) on test data= %g\" % rmse)"
   ]
  },
  {
   "cell_type": "code",
   "execution_count": 62,
   "metadata": {},
   "outputs": [
    {
     "name": "stdout",
     "output_type": "stream",
     "text": [
      "Test RMSE: 76020.4690490871\n",
      "Test r2: 0.5535720507259578\n",
      "\n"
     ]
    }
   ],
   "source": [
    "# Now load the test results\n",
    "test_results = fitModel.evaluate(test)\n",
    "\n",
    "# And print them\n",
    "print(\"Test RMSE: {}\".format(test_results.rootMeanSquaredError))\n",
    "print(\"Test r2: {}\".format(test_results.r2))\n",
    "print(\"\")"
   ]
  },
  {
   "cell_type": "code",
   "execution_count": 59,
   "metadata": {},
   "outputs": [
    {
     "name": "stdout",
     "output_type": "stream",
     "text": [
      "Intercept: -98568.1951938066\n",
      " \n"
     ]
    }
   ],
   "source": [
    "# printing coefficients and intercept for Linear regression\n",
    "print(\"Intercept: %s\" % str(fitModel.intercept))\n",
    "print(\" \")\n",
    "coeff_array = fitModel.coefficients.toArray()\n",
    "coeff_scores = []\n",
    "for x in coeff_array:\n",
    "    coeff_scores.append(float(x))\n",
    "\n",
    "# zip the input_columns list and create a df\n",
    "result = spark.createDataFrame(zip(input_columns, coeff_scores), schema=['feature', 'coeff'])\n"
   ]
  },
  {
   "cell_type": "code",
   "execution_count": 60,
   "metadata": {},
   "outputs": [
    {
     "name": "stdout",
     "output_type": "stream",
     "text": [
      "+------------------+------------------+\n",
      "|           feature|             coeff|\n",
      "+------------------+------------------+\n",
      "|housing_median_age| 1910.098893473276|\n",
      "|       total_rooms|-19.29946062295536|\n",
      "|    total_bedrooms| 78.75377618622908|\n",
      "|        population|-33.94987263975245|\n",
      "|        households|146.22928385994496|\n",
      "|     median_income| 47761.21736368154|\n",
      "|   ocean_proximity|1976.3262414215985|\n",
      "+------------------+------------------+\n",
      "\n"
     ]
    }
   ],
   "source": [
    "result.show()"
   ]
  },
  {
   "cell_type": "code",
   "execution_count": null,
   "metadata": {},
   "outputs": [],
   "source": []
  },
  {
   "cell_type": "code",
   "execution_count": null,
   "metadata": {},
   "outputs": [],
   "source": []
  },
  {
   "cell_type": "code",
   "execution_count": null,
   "metadata": {},
   "outputs": [],
   "source": []
  },
  {
   "cell_type": "code",
   "execution_count": null,
   "metadata": {},
   "outputs": [],
   "source": []
  },
  {
   "cell_type": "code",
   "execution_count": null,
   "metadata": {},
   "outputs": [],
   "source": []
  },
  {
   "cell_type": "code",
   "execution_count": null,
   "metadata": {},
   "outputs": [],
   "source": []
  },
  {
   "cell_type": "code",
   "execution_count": null,
   "metadata": {},
   "outputs": [],
   "source": []
  },
  {
   "cell_type": "code",
   "execution_count": null,
   "metadata": {},
   "outputs": [],
   "source": []
  }
 ],
 "metadata": {
  "kernelspec": {
   "display_name": "Python 3",
   "language": "python",
   "name": "python3"
  },
  "language_info": {
   "codemirror_mode": {
    "name": "ipython",
    "version": 3
   },
   "file_extension": ".py",
   "mimetype": "text/x-python",
   "name": "python",
   "nbconvert_exporter": "python",
   "pygments_lexer": "ipython3",
   "version": "3.7.9"
  }
 },
 "nbformat": 4,
 "nbformat_minor": 4
}
